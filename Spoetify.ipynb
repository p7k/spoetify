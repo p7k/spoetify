{
 "metadata": {
  "name": "Spoetify"
 },
 "nbformat": 3,
 "nbformat_minor": 0,
 "worksheets": [
  {
   "cells": [
    {
     "cell_type": "code",
     "collapsed": false,
     "input": [
      "import spotimeta"
     ],
     "language": "python",
     "metadata": {},
     "outputs": [],
     "prompt_number": 1
    },
    {
     "cell_type": "raw",
     "metadata": {},
     "source": [
      "* cache only possibly useful stuff | if the track name is a substring of the poem\n",
      "* cache by term also - repeating substrings | \"take me far, take me away\"\n",
      "* there could be multiple matches - perhaps should make all available - maybe even tweak by mood or genre of something"
     ]
    },
    {
     "cell_type": "code",
     "collapsed": false,
     "input": [
      "cache = {}\n",
      "\n",
      "def term_conditioner(term):\n",
      "    return term.lower()\n",
      "\n",
      "def query(term):\n",
      "    term = term_conditioner(term)\n",
      "    \n",
      "    has_results = False\n",
      "    if not cache.has_key(term):\n",
      "        response = spotimeta.search_track(term)\n",
      "        result = response['result']\n",
      "        if result:\n",
      "            has_results = True\n",
      "            for track in result:\n",
      "                name = track['name'].lower()\n",
      "                cache[name] = track\n",
      "    else:\n",
      "        print 'cache hit'\n",
      "    exact_match = cache.get(term)\n",
      "    return has_results, exact_match"
     ],
     "language": "python",
     "metadata": {},
     "outputs": [],
     "prompt_number": 2
    },
    {
     "cell_type": "code",
     "collapsed": false,
     "input": [
      "import networkx as nx\n",
      "\n",
      "def investigate(words):\n",
      "    graph = nx.DiGraph()\n",
      "    n = len(words) \n",
      "    for start in range(n):\n",
      "        for stop in range(start + 1, n):\n",
      "            chunk = words[start:stop + 1]\n",
      "            term = \" \".join(chunk)\n",
      "            has_results, exact_match = query(term)\n",
      "            if not (has_results or exact_match):\n",
      "                break\n",
      "            elif exact_match:\n",
      "                graph.add_edge(start, stop + 1, track=exact_match)\n",
      "    return graph"
     ],
     "language": "python",
     "metadata": {},
     "outputs": [],
     "prompt_number": 3
    },
    {
     "cell_type": "code",
     "collapsed": false,
     "input": [
      "words = \"If I can't let it go out of my mind\".split()"
     ],
     "language": "python",
     "metadata": {},
     "outputs": [],
     "prompt_number": 4
    },
    {
     "cell_type": "code",
     "collapsed": false,
     "input": [
      "graph = investigate(words)"
     ],
     "language": "python",
     "metadata": {},
     "outputs": [
      {
       "output_type": "stream",
       "stream": "stdout",
       "text": [
        "cache hit\n",
        "cache hit"
       ]
      },
      {
       "output_type": "stream",
       "stream": "stdout",
       "text": [
        "\n",
        "cache hit"
       ]
      },
      {
       "output_type": "stream",
       "stream": "stdout",
       "text": [
        "\n",
        "cache hit"
       ]
      },
      {
       "output_type": "stream",
       "stream": "stdout",
       "text": [
        "\n",
        "cache hit"
       ]
      },
      {
       "output_type": "stream",
       "stream": "stdout",
       "text": [
        "\n"
       ]
      }
     ],
     "prompt_number": 5
    },
    {
     "cell_type": "code",
     "collapsed": false,
     "input": [
      "from itertools import tee, izip\n",
      "\n",
      "def pairwise(iterable):\n",
      "    \"s -> (s0,s1), (s1,s2), (s2, s3), ...\"\n",
      "    a, b = tee(iterable)\n",
      "    next(b, None)\n",
      "    return izip(a, b)\n",
      "\n",
      "if len(graph) > 0:\n",
      "    path = nx.shortest_path(graph, 0, len(words))\n",
      "    edges = pairwise(path)\n",
      "    print [graph.edge[start][stop]['track']['name'] for start, stop in edges]\n",
      "        "
     ],
     "language": "python",
     "metadata": {},
     "outputs": [
      {
       "output_type": "stream",
       "stream": "stdout",
       "text": [
        "[u'If I', u\"Can't Let It Go\", u'Out Of My Mind']\n"
       ]
      }
     ],
     "prompt_number": 6
    },
    {
     "cell_type": "code",
     "collapsed": false,
     "input": [
      "from collections import deque\n",
      "\n",
      "def bfs(graph, start, end):\n",
      "    parent = {}\n",
      "    queue = deque([start])\n",
      "    while queue:\n",
      "        node = queue.popleft()\n",
      "        # when we find the end node, backtrack\n",
      "        # to find the shortest path\n",
      "        if node == end:\n",
      "            path = [end]\n",
      "            while path[-1] != start:\n",
      "                path.append(parent[path[-1]])\n",
      "            path.reverse()\n",
      "            return path\n",
      "        for neighbor in graph[node]:\n",
      "            parent[neighbor] = node\n",
      "            queue.append(neighbor)"
     ],
     "language": "python",
     "metadata": {},
     "outputs": [],
     "prompt_number": 9
    },
    {
     "cell_type": "code",
     "collapsed": false,
     "input": [
      "path = bfs(graph, 0, len(words))\n",
      "path"
     ],
     "language": "python",
     "metadata": {},
     "outputs": [
      {
       "output_type": "pyout",
       "prompt_number": 11,
       "text": [
        "[0, 3, 6, 10]"
       ]
      }
     ],
     "prompt_number": 11
    },
    {
     "cell_type": "code",
     "collapsed": false,
     "input": [
      "%timeit bfs(graph, 0, len(words))"
     ],
     "language": "python",
     "metadata": {},
     "outputs": [
      {
       "output_type": "stream",
       "stream": "stdout",
       "text": [
        "100000 loops, best of 3: 14.6 us per loop\n"
       ]
      }
     ],
     "prompt_number": 17
    },
    {
     "cell_type": "code",
     "collapsed": false,
     "input": [
      "%timeit nx.shortest_path(graph, 0, len(words))"
     ],
     "language": "python",
     "metadata": {},
     "outputs": [
      {
       "output_type": "stream",
       "stream": "stdout",
       "text": [
        "100000 loops, best of 3: 17.2 us per loop\n"
       ]
      }
     ],
     "prompt_number": 18
    },
    {
     "cell_type": "code",
     "collapsed": false,
     "input": [],
     "language": "python",
     "metadata": {},
     "outputs": []
    }
   ],
   "metadata": {}
  }
 ]
}